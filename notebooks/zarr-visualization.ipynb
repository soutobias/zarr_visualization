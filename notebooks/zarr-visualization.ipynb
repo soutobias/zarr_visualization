{
 "cells": [
  {
   "cell_type": "code",
   "execution_count": 16,
   "id": "f4448efb-9220-4697-ba17-e4bffec2137c",
   "metadata": {},
   "outputs": [
    {
     "name": "stdout",
     "output_type": "stream",
     "text": [
      "The autoreload extension is already loaded. To reload it, use:\n",
      "  %reload_ext autoreload\n"
     ]
    }
   ],
   "source": [
    "import requests\n",
    "import os\n",
    "import warnings\n",
    "from tqdm import tqdm\n",
    "import numpy as np\n",
    "import zipfile\n",
    "import rioxarray\n",
    "import xarray as xr\n",
    "from ipyleaflet import Map, basemaps, LayersControl, WidgetControl\n",
    "from rasterio.warp import Resampling\n",
    "import matplotlib.pyplot as plt\n",
    "import zarr\n",
    "import s3fs\n",
    "from dotenv import load_dotenv\n",
    "import os\n",
    "import ipywidgets as widgets\n",
    "from ipywidgets import interact\n",
    "from traitlets import link\n",
    "from localtileserver import get_leaflet_tile_layer, TileClient\n",
    "from tempfile import NamedTemporaryFile\n",
    "import warnings\n",
    "\n",
    "from zarr_visualization.zarr_visualization import ZarrVisualization\n",
    "\n",
    "warnings.filterwarnings(\"ignore\")\n",
    "\n",
    "%load_ext autoreload\n",
    "%autoreload 2"
   ]
  },
  {
   "cell_type": "code",
   "execution_count": 18,
   "id": "8630c1c7-dd1b-4938-868d-e4868cac51f5",
   "metadata": {},
   "outputs": [
    {
     "data": {
      "application/vnd.jupyter.widget-view+json": {
       "model_id": "244254c428cb4443ad482852e319b033",
       "version_major": 2,
       "version_minor": 0
      },
      "text/plain": [
       "interactive(children=(Dropdown(description='Variable:', options=('T1d', 'T1m', 'T1y', 'T5d', 'U1d', 'U1m', 'U1…"
      ]
     },
     "metadata": {},
     "output_type": "display_data"
    },
    {
     "data": {
      "application/vnd.jupyter.widget-view+json": {
       "model_id": "2fdd928eeef64dcd9421c5c811c7063d",
       "version_major": 2,
       "version_minor": 0
      },
      "text/plain": [
       "Map(center=[40, 0], controls=(ZoomControl(options=['position', 'zoom_in_text', 'zoom_in_title', 'zoom_out_text…"
      ]
     },
     "execution_count": 18,
     "metadata": {},
     "output_type": "execute_result"
    }
   ],
   "source": [
    "zarr_viz = ZarrVisualization(bucket_name='tobfer')\n",
    "\n",
    "@interact\n",
    "def select_data(\n",
    "    variable_select=zarr_viz.variable_select):\n",
    "\n",
    "    list_of_variables_subdata = zarr_viz.fs.ls(f\"{zarr_viz.bucket_name}/{variable_select}\")\n",
    "    list_of_variables_subdata = [item.split('/')[-1] for item in list_of_variables_subdata]\n",
    "    subdata_select = widgets.Dropdown(\n",
    "        options=list_of_variables_subdata,\n",
    "        value=list_of_variables_subdata[0],  \n",
    "        description='Files:'\n",
    "    )\n",
    "    subdata_select.observe(zarr_viz.update_data_path, names='value')\n",
    "    display(subdata_select, zarr_viz.printed_data_path)\n",
    "    display(zarr_viz.open_button)\n",
    "\n",
    "    display(zarr_viz.time_counter_container)  \n",
    "    display(zarr_viz.lat_min_container)  \n",
    "    display(zarr_viz.lat_max_container)\n",
    "    display(zarr_viz.lon_min_container)\n",
    "    display(zarr_viz.lon_max_container)\n",
    "    display(zarr_viz.sel_button)\n",
    "    display(zarr_viz.data_information)\n",
    "    display(zarr_viz.show_data)\n",
    "    display(zarr_viz.loading_container)\n",
    "    zarr_viz.open_button.on_click(lambda b: zarr_viz.process_zarr_file(subdata_select))\n",
    "    \n",
    "zarr_viz.m"
   ]
  },
  {
   "cell_type": "code",
   "execution_count": 11,
   "id": "285d7c99-fa05-4043-b1c6-51a681e85abd",
   "metadata": {},
   "outputs": [],
   "source": [
    "# ds = xr.open_zarr('https://noc-msm-o.s3-ext.jc.rl.ac.uk/tobfer/V1m/vo.zarr')"
   ]
  },
  {
   "cell_type": "code",
   "execution_count": null,
   "id": "ce3c8e91-6b61-454b-bddf-fd23d068b98b",
   "metadata": {},
   "outputs": [],
   "source": []
  }
 ],
 "metadata": {
  "kernelspec": {
   "display_name": "Python 3 (ipykernel)",
   "language": "python",
   "name": "python3"
  },
  "language_info": {
   "codemirror_mode": {
    "name": "ipython",
    "version": 3
   },
   "file_extension": ".py",
   "mimetype": "text/x-python",
   "name": "python",
   "nbconvert_exporter": "python",
   "pygments_lexer": "ipython3",
   "version": "3.10.12"
  }
 },
 "nbformat": 4,
 "nbformat_minor": 5
}
