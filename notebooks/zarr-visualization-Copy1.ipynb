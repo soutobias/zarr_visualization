{
 "cells": [
  {
   "cell_type": "code",
   "execution_count": 2,
   "id": "f4448efb-9220-4697-ba17-e4bffec2137c",
   "metadata": {},
   "outputs": [],
   "source": [
    "import requests\n",
    "import os\n",
    "import warnings\n",
    "from tqdm import tqdm\n",
    "import numpy as np\n",
    "import zipfile\n",
    "import rioxarray\n",
    "import xarray as xr\n",
    "from ipyleaflet import Map, basemaps, LayersControl, WidgetControl\n",
    "from rasterio.warp import Resampling\n",
    "import matplotlib.pyplot as plt\n",
    "import zarr\n",
    "from dotenv import load_dotenv\n",
    "import os\n",
    "import ipywidgets as widgets\n",
    "from ipywidgets import interact\n",
    "from traitlets import link\n",
    "from localtileserver import get_leaflet_tile_layer, TileClient\n",
    "from tempfile import NamedTemporaryFile\n",
    "import warnings\n",
    "import ssl\n",
    "from zarr_visualization.access_bucket import AccessBucket\n",
    "\n",
    "warnings.filterwarnings(\"ignore\")\n",
    "load_dotenv()\n",
    "%load_ext autoreload\n",
    "%autoreload 2"
   ]
  },
  {
   "cell_type": "code",
   "execution_count": 8,
   "id": "beda2563-d9a0-4d84-8576-09ad22d0c8d7",
   "metadata": {},
   "outputs": [],
   "source": [
    "bucket_name = 'tobfer'\n",
    "aws_access_key_id = os.environ.get('aws_access_key_id')\n",
    "aws_secret_access_key = os.environ.get('aws_secret_access_key')\n",
    "endpoint_url = os.environ.get('endpoint_url')\n",
    "\n",
    "a = AccessBucket(aws_access_key_id=aws_access_key_id,\n",
    "                 aws_secret_access_key=aws_secret_access_key,\n",
    "                 endpoint_url=endpoint_url,\n",
    "                 bucket=bucket_name)"
   ]
  },
  {
   "cell_type": "code",
   "execution_count": 9,
   "id": "a519571c-07f4-4417-abdc-f7f4ad8d5c46",
   "metadata": {},
   "outputs": [
    {
     "name": "stdout",
     "output_type": "stream",
     "text": [
      "\n"
     ]
    },
    {
     "ename": "KeyboardInterrupt",
     "evalue": "",
     "output_type": "error",
     "traceback": [
      "\u001b[0;31m---------------------------------------------------------------------------\u001b[0m",
      "\u001b[0;31mKeyboardInterrupt\u001b[0m                         Traceback (most recent call last)",
      "Cell \u001b[0;32mIn[9], line 1\u001b[0m\n\u001b[0;32m----> 1\u001b[0m files \u001b[38;5;241m=\u001b[39m \u001b[43ma\u001b[49m\u001b[38;5;241;43m.\u001b[39;49m\u001b[43mls\u001b[49m\u001b[43m(\u001b[49m\u001b[43mbucket_folder\u001b[49m\u001b[38;5;241;43m=\u001b[39;49m\u001b[38;5;124;43m'\u001b[39;49m\u001b[38;5;124;43m'\u001b[39;49m\u001b[43m)\u001b[49m\n",
      "File \u001b[0;32m/mnt/code/code/noc/class/zarr_visualization/zarr_visualization/access_bucket.py:349\u001b[0m, in \u001b[0;36mAccessBucket.ls\u001b[0;34m(self, bucket_folder, prefix, sufix)\u001b[0m\n\u001b[1;32m    346\u001b[0m paginator \u001b[38;5;241m=\u001b[39m \u001b[38;5;28mself\u001b[39m\u001b[38;5;241m.\u001b[39mclient\u001b[38;5;241m.\u001b[39mget_paginator(\u001b[38;5;124m'\u001b[39m\u001b[38;5;124mlist_objects_v2\u001b[39m\u001b[38;5;124m'\u001b[39m)\n\u001b[1;32m    348\u001b[0m pages \u001b[38;5;241m=\u001b[39m paginator\u001b[38;5;241m.\u001b[39mpaginate(Bucket\u001b[38;5;241m=\u001b[39m\u001b[38;5;28mself\u001b[39m\u001b[38;5;241m.\u001b[39mbucket, Prefix\u001b[38;5;241m=\u001b[39m\u001b[38;5;124mf\u001b[39m\u001b[38;5;124m\"\u001b[39m\u001b[38;5;132;01m{\u001b[39;00mbucket_folder\u001b[38;5;132;01m}\u001b[39;00m\u001b[38;5;132;01m{\u001b[39;00mprefix\u001b[38;5;132;01m}\u001b[39;00m\u001b[38;5;124m\"\u001b[39m)\n\u001b[0;32m--> 349\u001b[0m \u001b[38;5;28;01mfor\u001b[39;00m objects \u001b[38;5;129;01min\u001b[39;00m pages:\n\u001b[1;32m    350\u001b[0m     \u001b[38;5;28;01mif\u001b[39;00m sufix:\n\u001b[1;32m    351\u001b[0m         objects[\u001b[38;5;124m\"\u001b[39m\u001b[38;5;124mContents\u001b[39m\u001b[38;5;124m\"\u001b[39m] \u001b[38;5;241m=\u001b[39m \u001b[38;5;28mfilter\u001b[39m(\n\u001b[1;32m    352\u001b[0m             \u001b[38;5;28;01mlambda\u001b[39;00m obj: obj[\u001b[38;5;124m\"\u001b[39m\u001b[38;5;124mKey\u001b[39m\u001b[38;5;124m\"\u001b[39m]\u001b[38;5;241m.\u001b[39mendswith(sufix), objects[\u001b[38;5;124m\"\u001b[39m\u001b[38;5;124mContents\u001b[39m\u001b[38;5;124m\"\u001b[39m]\n\u001b[1;32m    353\u001b[0m         )\n",
      "File \u001b[0;32m/mnt/code/.pyenv/versions/3.10.12/envs/zarr-visualization/lib/python3.10/site-packages/botocore/paginate.py:269\u001b[0m, in \u001b[0;36mPageIterator.__iter__\u001b[0;34m(self)\u001b[0m\n\u001b[1;32m    267\u001b[0m \u001b[38;5;28mself\u001b[39m\u001b[38;5;241m.\u001b[39m_inject_starting_params(current_kwargs)\n\u001b[1;32m    268\u001b[0m \u001b[38;5;28;01mwhile\u001b[39;00m \u001b[38;5;28;01mTrue\u001b[39;00m:\n\u001b[0;32m--> 269\u001b[0m     response \u001b[38;5;241m=\u001b[39m \u001b[38;5;28;43mself\u001b[39;49m\u001b[38;5;241;43m.\u001b[39;49m\u001b[43m_make_request\u001b[49m\u001b[43m(\u001b[49m\u001b[43mcurrent_kwargs\u001b[49m\u001b[43m)\u001b[49m\n\u001b[1;32m    270\u001b[0m     parsed \u001b[38;5;241m=\u001b[39m \u001b[38;5;28mself\u001b[39m\u001b[38;5;241m.\u001b[39m_extract_parsed_response(response)\n\u001b[1;32m    271\u001b[0m     \u001b[38;5;28;01mif\u001b[39;00m first_request:\n\u001b[1;32m    272\u001b[0m         \u001b[38;5;66;03m# The first request is handled differently.  We could\u001b[39;00m\n\u001b[1;32m    273\u001b[0m         \u001b[38;5;66;03m# possibly have a resume/starting token that tells us where\u001b[39;00m\n\u001b[1;32m    274\u001b[0m         \u001b[38;5;66;03m# to index into the retrieved page.\u001b[39;00m\n",
      "File \u001b[0;32m/mnt/code/.pyenv/versions/3.10.12/envs/zarr-visualization/lib/python3.10/site-packages/botocore/paginate.py:357\u001b[0m, in \u001b[0;36mPageIterator._make_request\u001b[0;34m(self, current_kwargs)\u001b[0m\n\u001b[1;32m    356\u001b[0m \u001b[38;5;28;01mdef\u001b[39;00m \u001b[38;5;21m_make_request\u001b[39m(\u001b[38;5;28mself\u001b[39m, current_kwargs):\n\u001b[0;32m--> 357\u001b[0m     \u001b[38;5;28;01mreturn\u001b[39;00m \u001b[38;5;28;43mself\u001b[39;49m\u001b[38;5;241;43m.\u001b[39;49m\u001b[43m_method\u001b[49m\u001b[43m(\u001b[49m\u001b[38;5;241;43m*\u001b[39;49m\u001b[38;5;241;43m*\u001b[39;49m\u001b[43mcurrent_kwargs\u001b[49m\u001b[43m)\u001b[49m\n",
      "File \u001b[0;32m/mnt/code/.pyenv/versions/3.10.12/envs/zarr-visualization/lib/python3.10/site-packages/botocore/client.py:565\u001b[0m, in \u001b[0;36mClientCreator._create_api_method.<locals>._api_call\u001b[0;34m(self, *args, **kwargs)\u001b[0m\n\u001b[1;32m    561\u001b[0m     \u001b[38;5;28;01mraise\u001b[39;00m \u001b[38;5;167;01mTypeError\u001b[39;00m(\n\u001b[1;32m    562\u001b[0m         \u001b[38;5;124mf\u001b[39m\u001b[38;5;124m\"\u001b[39m\u001b[38;5;132;01m{\u001b[39;00mpy_operation_name\u001b[38;5;132;01m}\u001b[39;00m\u001b[38;5;124m() only accepts keyword arguments.\u001b[39m\u001b[38;5;124m\"\u001b[39m\n\u001b[1;32m    563\u001b[0m     )\n\u001b[1;32m    564\u001b[0m \u001b[38;5;66;03m# The \"self\" in this scope is referring to the BaseClient.\u001b[39;00m\n\u001b[0;32m--> 565\u001b[0m \u001b[38;5;28;01mreturn\u001b[39;00m \u001b[38;5;28;43mself\u001b[39;49m\u001b[38;5;241;43m.\u001b[39;49m\u001b[43m_make_api_call\u001b[49m\u001b[43m(\u001b[49m\u001b[43moperation_name\u001b[49m\u001b[43m,\u001b[49m\u001b[43m \u001b[49m\u001b[43mkwargs\u001b[49m\u001b[43m)\u001b[49m\n",
      "File \u001b[0;32m/mnt/code/.pyenv/versions/3.10.12/envs/zarr-visualization/lib/python3.10/site-packages/botocore/client.py:1001\u001b[0m, in \u001b[0;36mBaseClient._make_api_call\u001b[0;34m(self, operation_name, api_params)\u001b[0m\n\u001b[1;32m    997\u001b[0m     maybe_compress_request(\n\u001b[1;32m    998\u001b[0m         \u001b[38;5;28mself\u001b[39m\u001b[38;5;241m.\u001b[39mmeta\u001b[38;5;241m.\u001b[39mconfig, request_dict, operation_model\n\u001b[1;32m    999\u001b[0m     )\n\u001b[1;32m   1000\u001b[0m     apply_request_checksum(request_dict)\n\u001b[0;32m-> 1001\u001b[0m     http, parsed_response \u001b[38;5;241m=\u001b[39m \u001b[38;5;28;43mself\u001b[39;49m\u001b[38;5;241;43m.\u001b[39;49m\u001b[43m_make_request\u001b[49m\u001b[43m(\u001b[49m\n\u001b[1;32m   1002\u001b[0m \u001b[43m        \u001b[49m\u001b[43moperation_model\u001b[49m\u001b[43m,\u001b[49m\u001b[43m \u001b[49m\u001b[43mrequest_dict\u001b[49m\u001b[43m,\u001b[49m\u001b[43m \u001b[49m\u001b[43mrequest_context\u001b[49m\n\u001b[1;32m   1003\u001b[0m \u001b[43m    \u001b[49m\u001b[43m)\u001b[49m\n\u001b[1;32m   1005\u001b[0m \u001b[38;5;28mself\u001b[39m\u001b[38;5;241m.\u001b[39mmeta\u001b[38;5;241m.\u001b[39mevents\u001b[38;5;241m.\u001b[39memit(\n\u001b[1;32m   1006\u001b[0m     \u001b[38;5;124m'\u001b[39m\u001b[38;5;124mafter-call.\u001b[39m\u001b[38;5;132;01m{service_id}\u001b[39;00m\u001b[38;5;124m.\u001b[39m\u001b[38;5;132;01m{operation_name}\u001b[39;00m\u001b[38;5;124m'\u001b[39m\u001b[38;5;241m.\u001b[39mformat(\n\u001b[1;32m   1007\u001b[0m         service_id\u001b[38;5;241m=\u001b[39mservice_id, operation_name\u001b[38;5;241m=\u001b[39moperation_name\n\u001b[0;32m   (...)\u001b[0m\n\u001b[1;32m   1012\u001b[0m     context\u001b[38;5;241m=\u001b[39mrequest_context,\n\u001b[1;32m   1013\u001b[0m )\n\u001b[1;32m   1015\u001b[0m \u001b[38;5;28;01mif\u001b[39;00m http\u001b[38;5;241m.\u001b[39mstatus_code \u001b[38;5;241m>\u001b[39m\u001b[38;5;241m=\u001b[39m \u001b[38;5;241m300\u001b[39m:\n",
      "File \u001b[0;32m/mnt/code/.pyenv/versions/3.10.12/envs/zarr-visualization/lib/python3.10/site-packages/botocore/client.py:1027\u001b[0m, in \u001b[0;36mBaseClient._make_request\u001b[0;34m(self, operation_model, request_dict, request_context)\u001b[0m\n\u001b[1;32m   1025\u001b[0m \u001b[38;5;28;01mdef\u001b[39;00m \u001b[38;5;21m_make_request\u001b[39m(\u001b[38;5;28mself\u001b[39m, operation_model, request_dict, request_context):\n\u001b[1;32m   1026\u001b[0m     \u001b[38;5;28;01mtry\u001b[39;00m:\n\u001b[0;32m-> 1027\u001b[0m         \u001b[38;5;28;01mreturn\u001b[39;00m \u001b[38;5;28;43mself\u001b[39;49m\u001b[38;5;241;43m.\u001b[39;49m\u001b[43m_endpoint\u001b[49m\u001b[38;5;241;43m.\u001b[39;49m\u001b[43mmake_request\u001b[49m\u001b[43m(\u001b[49m\u001b[43moperation_model\u001b[49m\u001b[43m,\u001b[49m\u001b[43m \u001b[49m\u001b[43mrequest_dict\u001b[49m\u001b[43m)\u001b[49m\n\u001b[1;32m   1028\u001b[0m     \u001b[38;5;28;01mexcept\u001b[39;00m \u001b[38;5;167;01mException\u001b[39;00m \u001b[38;5;28;01mas\u001b[39;00m e:\n\u001b[1;32m   1029\u001b[0m         \u001b[38;5;28mself\u001b[39m\u001b[38;5;241m.\u001b[39mmeta\u001b[38;5;241m.\u001b[39mevents\u001b[38;5;241m.\u001b[39memit(\n\u001b[1;32m   1030\u001b[0m             \u001b[38;5;124m'\u001b[39m\u001b[38;5;124mafter-call-error.\u001b[39m\u001b[38;5;132;01m{service_id}\u001b[39;00m\u001b[38;5;124m.\u001b[39m\u001b[38;5;132;01m{operation_name}\u001b[39;00m\u001b[38;5;124m'\u001b[39m\u001b[38;5;241m.\u001b[39mformat(\n\u001b[1;32m   1031\u001b[0m                 service_id\u001b[38;5;241m=\u001b[39m\u001b[38;5;28mself\u001b[39m\u001b[38;5;241m.\u001b[39m_service_model\u001b[38;5;241m.\u001b[39mservice_id\u001b[38;5;241m.\u001b[39mhyphenize(),\n\u001b[0;32m   (...)\u001b[0m\n\u001b[1;32m   1035\u001b[0m             context\u001b[38;5;241m=\u001b[39mrequest_context,\n\u001b[1;32m   1036\u001b[0m         )\n",
      "File \u001b[0;32m/mnt/code/.pyenv/versions/3.10.12/envs/zarr-visualization/lib/python3.10/site-packages/botocore/endpoint.py:119\u001b[0m, in \u001b[0;36mEndpoint.make_request\u001b[0;34m(self, operation_model, request_dict)\u001b[0m\n\u001b[1;32m    113\u001b[0m \u001b[38;5;28;01mdef\u001b[39;00m \u001b[38;5;21mmake_request\u001b[39m(\u001b[38;5;28mself\u001b[39m, operation_model, request_dict):\n\u001b[1;32m    114\u001b[0m     logger\u001b[38;5;241m.\u001b[39mdebug(\n\u001b[1;32m    115\u001b[0m         \u001b[38;5;124m\"\u001b[39m\u001b[38;5;124mMaking request for \u001b[39m\u001b[38;5;132;01m%s\u001b[39;00m\u001b[38;5;124m with params: \u001b[39m\u001b[38;5;132;01m%s\u001b[39;00m\u001b[38;5;124m\"\u001b[39m,\n\u001b[1;32m    116\u001b[0m         operation_model,\n\u001b[1;32m    117\u001b[0m         request_dict,\n\u001b[1;32m    118\u001b[0m     )\n\u001b[0;32m--> 119\u001b[0m     \u001b[38;5;28;01mreturn\u001b[39;00m \u001b[38;5;28;43mself\u001b[39;49m\u001b[38;5;241;43m.\u001b[39;49m\u001b[43m_send_request\u001b[49m\u001b[43m(\u001b[49m\u001b[43mrequest_dict\u001b[49m\u001b[43m,\u001b[49m\u001b[43m \u001b[49m\u001b[43moperation_model\u001b[49m\u001b[43m)\u001b[49m\n",
      "File \u001b[0;32m/mnt/code/.pyenv/versions/3.10.12/envs/zarr-visualization/lib/python3.10/site-packages/botocore/endpoint.py:199\u001b[0m, in \u001b[0;36mEndpoint._send_request\u001b[0;34m(self, request_dict, operation_model)\u001b[0m\n\u001b[1;32m    197\u001b[0m \u001b[38;5;28mself\u001b[39m\u001b[38;5;241m.\u001b[39m_update_retries_context(context, attempts)\n\u001b[1;32m    198\u001b[0m request \u001b[38;5;241m=\u001b[39m \u001b[38;5;28mself\u001b[39m\u001b[38;5;241m.\u001b[39mcreate_request(request_dict, operation_model)\n\u001b[0;32m--> 199\u001b[0m success_response, exception \u001b[38;5;241m=\u001b[39m \u001b[38;5;28;43mself\u001b[39;49m\u001b[38;5;241;43m.\u001b[39;49m\u001b[43m_get_response\u001b[49m\u001b[43m(\u001b[49m\n\u001b[1;32m    200\u001b[0m \u001b[43m    \u001b[49m\u001b[43mrequest\u001b[49m\u001b[43m,\u001b[49m\u001b[43m \u001b[49m\u001b[43moperation_model\u001b[49m\u001b[43m,\u001b[49m\u001b[43m \u001b[49m\u001b[43mcontext\u001b[49m\n\u001b[1;32m    201\u001b[0m \u001b[43m\u001b[49m\u001b[43m)\u001b[49m\n\u001b[1;32m    202\u001b[0m \u001b[38;5;28;01mwhile\u001b[39;00m \u001b[38;5;28mself\u001b[39m\u001b[38;5;241m.\u001b[39m_needs_retry(\n\u001b[1;32m    203\u001b[0m     attempts,\n\u001b[1;32m    204\u001b[0m     operation_model,\n\u001b[0;32m   (...)\u001b[0m\n\u001b[1;32m    207\u001b[0m     exception,\n\u001b[1;32m    208\u001b[0m ):\n\u001b[1;32m    209\u001b[0m     attempts \u001b[38;5;241m+\u001b[39m\u001b[38;5;241m=\u001b[39m \u001b[38;5;241m1\u001b[39m\n",
      "File \u001b[0;32m/mnt/code/.pyenv/versions/3.10.12/envs/zarr-visualization/lib/python3.10/site-packages/botocore/endpoint.py:241\u001b[0m, in \u001b[0;36mEndpoint._get_response\u001b[0;34m(self, request, operation_model, context)\u001b[0m\n\u001b[1;32m    235\u001b[0m \u001b[38;5;28;01mdef\u001b[39;00m \u001b[38;5;21m_get_response\u001b[39m(\u001b[38;5;28mself\u001b[39m, request, operation_model, context):\n\u001b[1;32m    236\u001b[0m     \u001b[38;5;66;03m# This will return a tuple of (success_response, exception)\u001b[39;00m\n\u001b[1;32m    237\u001b[0m     \u001b[38;5;66;03m# and success_response is itself a tuple of\u001b[39;00m\n\u001b[1;32m    238\u001b[0m     \u001b[38;5;66;03m# (http_response, parsed_dict).\u001b[39;00m\n\u001b[1;32m    239\u001b[0m     \u001b[38;5;66;03m# If an exception occurs then the success_response is None.\u001b[39;00m\n\u001b[1;32m    240\u001b[0m     \u001b[38;5;66;03m# If no exception occurs then exception is None.\u001b[39;00m\n\u001b[0;32m--> 241\u001b[0m     success_response, exception \u001b[38;5;241m=\u001b[39m \u001b[38;5;28;43mself\u001b[39;49m\u001b[38;5;241;43m.\u001b[39;49m\u001b[43m_do_get_response\u001b[49m\u001b[43m(\u001b[49m\n\u001b[1;32m    242\u001b[0m \u001b[43m        \u001b[49m\u001b[43mrequest\u001b[49m\u001b[43m,\u001b[49m\u001b[43m \u001b[49m\u001b[43moperation_model\u001b[49m\u001b[43m,\u001b[49m\u001b[43m \u001b[49m\u001b[43mcontext\u001b[49m\n\u001b[1;32m    243\u001b[0m \u001b[43m    \u001b[49m\u001b[43m)\u001b[49m\n\u001b[1;32m    244\u001b[0m     kwargs_to_emit \u001b[38;5;241m=\u001b[39m {\n\u001b[1;32m    245\u001b[0m         \u001b[38;5;124m'\u001b[39m\u001b[38;5;124mresponse_dict\u001b[39m\u001b[38;5;124m'\u001b[39m: \u001b[38;5;28;01mNone\u001b[39;00m,\n\u001b[1;32m    246\u001b[0m         \u001b[38;5;124m'\u001b[39m\u001b[38;5;124mparsed_response\u001b[39m\u001b[38;5;124m'\u001b[39m: \u001b[38;5;28;01mNone\u001b[39;00m,\n\u001b[1;32m    247\u001b[0m         \u001b[38;5;124m'\u001b[39m\u001b[38;5;124mcontext\u001b[39m\u001b[38;5;124m'\u001b[39m: context,\n\u001b[1;32m    248\u001b[0m         \u001b[38;5;124m'\u001b[39m\u001b[38;5;124mexception\u001b[39m\u001b[38;5;124m'\u001b[39m: exception,\n\u001b[1;32m    249\u001b[0m     }\n\u001b[1;32m    250\u001b[0m     \u001b[38;5;28;01mif\u001b[39;00m success_response \u001b[38;5;129;01mis\u001b[39;00m \u001b[38;5;129;01mnot\u001b[39;00m \u001b[38;5;28;01mNone\u001b[39;00m:\n",
      "File \u001b[0;32m/mnt/code/.pyenv/versions/3.10.12/envs/zarr-visualization/lib/python3.10/site-packages/botocore/endpoint.py:281\u001b[0m, in \u001b[0;36mEndpoint._do_get_response\u001b[0;34m(self, request, operation_model, context)\u001b[0m\n\u001b[1;32m    279\u001b[0m     http_response \u001b[38;5;241m=\u001b[39m first_non_none_response(responses)\n\u001b[1;32m    280\u001b[0m     \u001b[38;5;28;01mif\u001b[39;00m http_response \u001b[38;5;129;01mis\u001b[39;00m \u001b[38;5;28;01mNone\u001b[39;00m:\n\u001b[0;32m--> 281\u001b[0m         http_response \u001b[38;5;241m=\u001b[39m \u001b[38;5;28;43mself\u001b[39;49m\u001b[38;5;241;43m.\u001b[39;49m\u001b[43m_send\u001b[49m\u001b[43m(\u001b[49m\u001b[43mrequest\u001b[49m\u001b[43m)\u001b[49m\n\u001b[1;32m    282\u001b[0m \u001b[38;5;28;01mexcept\u001b[39;00m HTTPClientError \u001b[38;5;28;01mas\u001b[39;00m e:\n\u001b[1;32m    283\u001b[0m     \u001b[38;5;28;01mreturn\u001b[39;00m (\u001b[38;5;28;01mNone\u001b[39;00m, e)\n",
      "File \u001b[0;32m/mnt/code/.pyenv/versions/3.10.12/envs/zarr-visualization/lib/python3.10/site-packages/botocore/endpoint.py:377\u001b[0m, in \u001b[0;36mEndpoint._send\u001b[0;34m(self, request)\u001b[0m\n\u001b[1;32m    376\u001b[0m \u001b[38;5;28;01mdef\u001b[39;00m \u001b[38;5;21m_send\u001b[39m(\u001b[38;5;28mself\u001b[39m, request):\n\u001b[0;32m--> 377\u001b[0m     \u001b[38;5;28;01mreturn\u001b[39;00m \u001b[38;5;28;43mself\u001b[39;49m\u001b[38;5;241;43m.\u001b[39;49m\u001b[43mhttp_session\u001b[49m\u001b[38;5;241;43m.\u001b[39;49m\u001b[43msend\u001b[49m\u001b[43m(\u001b[49m\u001b[43mrequest\u001b[49m\u001b[43m)\u001b[49m\n",
      "File \u001b[0;32m/mnt/code/.pyenv/versions/3.10.12/envs/zarr-visualization/lib/python3.10/site-packages/botocore/httpsession.py:487\u001b[0m, in \u001b[0;36mURLLib3Session.send\u001b[0;34m(self, request)\u001b[0m\n\u001b[1;32m    476\u001b[0m     http_response \u001b[38;5;241m=\u001b[39m botocore\u001b[38;5;241m.\u001b[39mawsrequest\u001b[38;5;241m.\u001b[39mAWSResponse(\n\u001b[1;32m    477\u001b[0m         request\u001b[38;5;241m.\u001b[39murl,\n\u001b[1;32m    478\u001b[0m         urllib_response\u001b[38;5;241m.\u001b[39mstatus,\n\u001b[1;32m    479\u001b[0m         urllib_response\u001b[38;5;241m.\u001b[39mheaders,\n\u001b[1;32m    480\u001b[0m         urllib_response,\n\u001b[1;32m    481\u001b[0m     )\n\u001b[1;32m    483\u001b[0m     \u001b[38;5;28;01mif\u001b[39;00m \u001b[38;5;129;01mnot\u001b[39;00m request\u001b[38;5;241m.\u001b[39mstream_output:\n\u001b[1;32m    484\u001b[0m         \u001b[38;5;66;03m# Cause the raw stream to be exhausted immediately. We do it\u001b[39;00m\n\u001b[1;32m    485\u001b[0m         \u001b[38;5;66;03m# this way instead of using preload_content because\u001b[39;00m\n\u001b[1;32m    486\u001b[0m         \u001b[38;5;66;03m# preload_content will never buffer chunked responses\u001b[39;00m\n\u001b[0;32m--> 487\u001b[0m         \u001b[43mhttp_response\u001b[49m\u001b[38;5;241;43m.\u001b[39;49m\u001b[43mcontent\u001b[49m\n\u001b[1;32m    489\u001b[0m     \u001b[38;5;28;01mreturn\u001b[39;00m http_response\n\u001b[1;32m    490\u001b[0m \u001b[38;5;28;01mexcept\u001b[39;00m URLLib3SSLError \u001b[38;5;28;01mas\u001b[39;00m e:\n",
      "File \u001b[0;32m/mnt/code/.pyenv/versions/3.10.12/envs/zarr-visualization/lib/python3.10/site-packages/botocore/awsrequest.py:572\u001b[0m, in \u001b[0;36mAWSResponse.content\u001b[0;34m(self)\u001b[0m\n\u001b[1;32m    565\u001b[0m \u001b[38;5;250m\u001b[39m\u001b[38;5;124;03m\"\"\"Content of the response as bytes.\"\"\"\u001b[39;00m\n\u001b[1;32m    567\u001b[0m \u001b[38;5;28;01mif\u001b[39;00m \u001b[38;5;28mself\u001b[39m\u001b[38;5;241m.\u001b[39m_content \u001b[38;5;129;01mis\u001b[39;00m \u001b[38;5;28;01mNone\u001b[39;00m:\n\u001b[1;32m    568\u001b[0m     \u001b[38;5;66;03m# Read the contents.\u001b[39;00m\n\u001b[1;32m    569\u001b[0m     \u001b[38;5;66;03m# NOTE: requests would attempt to call stream and fall back\u001b[39;00m\n\u001b[1;32m    570\u001b[0m     \u001b[38;5;66;03m# to a custom generator that would call read in a loop, but\u001b[39;00m\n\u001b[1;32m    571\u001b[0m     \u001b[38;5;66;03m# we don't rely on this behavior\u001b[39;00m\n\u001b[0;32m--> 572\u001b[0m     \u001b[38;5;28mself\u001b[39m\u001b[38;5;241m.\u001b[39m_content \u001b[38;5;241m=\u001b[39m \u001b[38;5;124;43mb\u001b[39;49m\u001b[38;5;124;43m'\u001b[39;49m\u001b[38;5;124;43m'\u001b[39;49m\u001b[38;5;241;43m.\u001b[39;49m\u001b[43mjoin\u001b[49m\u001b[43m(\u001b[49m\u001b[38;5;28;43mself\u001b[39;49m\u001b[38;5;241;43m.\u001b[39;49m\u001b[43mraw\u001b[49m\u001b[38;5;241;43m.\u001b[39;49m\u001b[43mstream\u001b[49m\u001b[43m(\u001b[49m\u001b[43m)\u001b[49m\u001b[43m)\u001b[49m \u001b[38;5;129;01mor\u001b[39;00m \u001b[38;5;124mb\u001b[39m\u001b[38;5;124m'\u001b[39m\u001b[38;5;124m'\u001b[39m\n\u001b[1;32m    574\u001b[0m \u001b[38;5;28;01mreturn\u001b[39;00m \u001b[38;5;28mself\u001b[39m\u001b[38;5;241m.\u001b[39m_content\n",
      "File \u001b[0;32m/mnt/code/.pyenv/versions/3.10.12/envs/zarr-visualization/lib/python3.10/site-packages/urllib3/response.py:1043\u001b[0m, in \u001b[0;36mHTTPResponse.stream\u001b[0;34m(self, amt, decode_content)\u001b[0m\n\u001b[1;32m   1041\u001b[0m \u001b[38;5;28;01melse\u001b[39;00m:\n\u001b[1;32m   1042\u001b[0m     \u001b[38;5;28;01mwhile\u001b[39;00m \u001b[38;5;129;01mnot\u001b[39;00m is_fp_closed(\u001b[38;5;28mself\u001b[39m\u001b[38;5;241m.\u001b[39m_fp) \u001b[38;5;129;01mor\u001b[39;00m \u001b[38;5;28mlen\u001b[39m(\u001b[38;5;28mself\u001b[39m\u001b[38;5;241m.\u001b[39m_decoded_buffer) \u001b[38;5;241m>\u001b[39m \u001b[38;5;241m0\u001b[39m:\n\u001b[0;32m-> 1043\u001b[0m         data \u001b[38;5;241m=\u001b[39m \u001b[38;5;28;43mself\u001b[39;49m\u001b[38;5;241;43m.\u001b[39;49m\u001b[43mread\u001b[49m\u001b[43m(\u001b[49m\u001b[43mamt\u001b[49m\u001b[38;5;241;43m=\u001b[39;49m\u001b[43mamt\u001b[49m\u001b[43m,\u001b[49m\u001b[43m \u001b[49m\u001b[43mdecode_content\u001b[49m\u001b[38;5;241;43m=\u001b[39;49m\u001b[43mdecode_content\u001b[49m\u001b[43m)\u001b[49m\n\u001b[1;32m   1045\u001b[0m         \u001b[38;5;28;01mif\u001b[39;00m data:\n\u001b[1;32m   1046\u001b[0m             \u001b[38;5;28;01myield\u001b[39;00m data\n",
      "File \u001b[0;32m/mnt/code/.pyenv/versions/3.10.12/envs/zarr-visualization/lib/python3.10/site-packages/urllib3/response.py:935\u001b[0m, in \u001b[0;36mHTTPResponse.read\u001b[0;34m(self, amt, decode_content, cache_content)\u001b[0m\n\u001b[1;32m    932\u001b[0m     \u001b[38;5;28;01mif\u001b[39;00m \u001b[38;5;28mlen\u001b[39m(\u001b[38;5;28mself\u001b[39m\u001b[38;5;241m.\u001b[39m_decoded_buffer) \u001b[38;5;241m>\u001b[39m\u001b[38;5;241m=\u001b[39m amt:\n\u001b[1;32m    933\u001b[0m         \u001b[38;5;28;01mreturn\u001b[39;00m \u001b[38;5;28mself\u001b[39m\u001b[38;5;241m.\u001b[39m_decoded_buffer\u001b[38;5;241m.\u001b[39mget(amt)\n\u001b[0;32m--> 935\u001b[0m data \u001b[38;5;241m=\u001b[39m \u001b[38;5;28;43mself\u001b[39;49m\u001b[38;5;241;43m.\u001b[39;49m\u001b[43m_raw_read\u001b[49m\u001b[43m(\u001b[49m\u001b[43mamt\u001b[49m\u001b[43m)\u001b[49m\n\u001b[1;32m    937\u001b[0m flush_decoder \u001b[38;5;241m=\u001b[39m amt \u001b[38;5;129;01mis\u001b[39;00m \u001b[38;5;28;01mNone\u001b[39;00m \u001b[38;5;129;01mor\u001b[39;00m (amt \u001b[38;5;241m!=\u001b[39m \u001b[38;5;241m0\u001b[39m \u001b[38;5;129;01mand\u001b[39;00m \u001b[38;5;129;01mnot\u001b[39;00m data)\n\u001b[1;32m    939\u001b[0m \u001b[38;5;28;01mif\u001b[39;00m \u001b[38;5;129;01mnot\u001b[39;00m data \u001b[38;5;129;01mand\u001b[39;00m \u001b[38;5;28mlen\u001b[39m(\u001b[38;5;28mself\u001b[39m\u001b[38;5;241m.\u001b[39m_decoded_buffer) \u001b[38;5;241m==\u001b[39m \u001b[38;5;241m0\u001b[39m:\n",
      "File \u001b[0;32m/mnt/code/.pyenv/versions/3.10.12/envs/zarr-visualization/lib/python3.10/site-packages/urllib3/response.py:862\u001b[0m, in \u001b[0;36mHTTPResponse._raw_read\u001b[0;34m(self, amt, read1)\u001b[0m\n\u001b[1;32m    859\u001b[0m fp_closed \u001b[38;5;241m=\u001b[39m \u001b[38;5;28mgetattr\u001b[39m(\u001b[38;5;28mself\u001b[39m\u001b[38;5;241m.\u001b[39m_fp, \u001b[38;5;124m\"\u001b[39m\u001b[38;5;124mclosed\u001b[39m\u001b[38;5;124m\"\u001b[39m, \u001b[38;5;28;01mFalse\u001b[39;00m)\n\u001b[1;32m    861\u001b[0m \u001b[38;5;28;01mwith\u001b[39;00m \u001b[38;5;28mself\u001b[39m\u001b[38;5;241m.\u001b[39m_error_catcher():\n\u001b[0;32m--> 862\u001b[0m     data \u001b[38;5;241m=\u001b[39m \u001b[38;5;28;43mself\u001b[39;49m\u001b[38;5;241;43m.\u001b[39;49m\u001b[43m_fp_read\u001b[49m\u001b[43m(\u001b[49m\u001b[43mamt\u001b[49m\u001b[43m,\u001b[49m\u001b[43m \u001b[49m\u001b[43mread1\u001b[49m\u001b[38;5;241;43m=\u001b[39;49m\u001b[43mread1\u001b[49m\u001b[43m)\u001b[49m \u001b[38;5;28;01mif\u001b[39;00m \u001b[38;5;129;01mnot\u001b[39;00m fp_closed \u001b[38;5;28;01melse\u001b[39;00m \u001b[38;5;124mb\u001b[39m\u001b[38;5;124m\"\u001b[39m\u001b[38;5;124m\"\u001b[39m\n\u001b[1;32m    863\u001b[0m     \u001b[38;5;28;01mif\u001b[39;00m amt \u001b[38;5;129;01mis\u001b[39;00m \u001b[38;5;129;01mnot\u001b[39;00m \u001b[38;5;28;01mNone\u001b[39;00m \u001b[38;5;129;01mand\u001b[39;00m amt \u001b[38;5;241m!=\u001b[39m \u001b[38;5;241m0\u001b[39m \u001b[38;5;129;01mand\u001b[39;00m \u001b[38;5;129;01mnot\u001b[39;00m data:\n\u001b[1;32m    864\u001b[0m         \u001b[38;5;66;03m# Platform-specific: Buggy versions of Python.\u001b[39;00m\n\u001b[1;32m    865\u001b[0m         \u001b[38;5;66;03m# Close the connection when no data is returned\u001b[39;00m\n\u001b[0;32m   (...)\u001b[0m\n\u001b[1;32m    870\u001b[0m         \u001b[38;5;66;03m# not properly close the connection in all cases. There is\u001b[39;00m\n\u001b[1;32m    871\u001b[0m         \u001b[38;5;66;03m# no harm in redundantly calling close.\u001b[39;00m\n\u001b[1;32m    872\u001b[0m         \u001b[38;5;28mself\u001b[39m\u001b[38;5;241m.\u001b[39m_fp\u001b[38;5;241m.\u001b[39mclose()\n",
      "File \u001b[0;32m/mnt/code/.pyenv/versions/3.10.12/envs/zarr-visualization/lib/python3.10/site-packages/urllib3/response.py:845\u001b[0m, in \u001b[0;36mHTTPResponse._fp_read\u001b[0;34m(self, amt, read1)\u001b[0m\n\u001b[1;32m    842\u001b[0m     \u001b[38;5;28;01mreturn\u001b[39;00m \u001b[38;5;28mself\u001b[39m\u001b[38;5;241m.\u001b[39m_fp\u001b[38;5;241m.\u001b[39mread1(amt) \u001b[38;5;28;01mif\u001b[39;00m amt \u001b[38;5;129;01mis\u001b[39;00m \u001b[38;5;129;01mnot\u001b[39;00m \u001b[38;5;28;01mNone\u001b[39;00m \u001b[38;5;28;01melse\u001b[39;00m \u001b[38;5;28mself\u001b[39m\u001b[38;5;241m.\u001b[39m_fp\u001b[38;5;241m.\u001b[39mread1()\n\u001b[1;32m    843\u001b[0m \u001b[38;5;28;01melse\u001b[39;00m:\n\u001b[1;32m    844\u001b[0m     \u001b[38;5;66;03m# StringIO doesn't like amt=None\u001b[39;00m\n\u001b[0;32m--> 845\u001b[0m     \u001b[38;5;28;01mreturn\u001b[39;00m \u001b[38;5;28;43mself\u001b[39;49m\u001b[38;5;241;43m.\u001b[39;49m\u001b[43m_fp\u001b[49m\u001b[38;5;241;43m.\u001b[39;49m\u001b[43mread\u001b[49m\u001b[43m(\u001b[49m\u001b[43mamt\u001b[49m\u001b[43m)\u001b[49m \u001b[38;5;28;01mif\u001b[39;00m amt \u001b[38;5;129;01mis\u001b[39;00m \u001b[38;5;129;01mnot\u001b[39;00m \u001b[38;5;28;01mNone\u001b[39;00m \u001b[38;5;28;01melse\u001b[39;00m \u001b[38;5;28mself\u001b[39m\u001b[38;5;241m.\u001b[39m_fp\u001b[38;5;241m.\u001b[39mread()\n",
      "File \u001b[0;32m/mnt/code/.pyenv/versions/3.10.12/lib/python3.10/http/client.py:466\u001b[0m, in \u001b[0;36mHTTPResponse.read\u001b[0;34m(self, amt)\u001b[0m\n\u001b[1;32m    463\u001b[0m \u001b[38;5;28;01mif\u001b[39;00m \u001b[38;5;28mself\u001b[39m\u001b[38;5;241m.\u001b[39mlength \u001b[38;5;129;01mis\u001b[39;00m \u001b[38;5;129;01mnot\u001b[39;00m \u001b[38;5;28;01mNone\u001b[39;00m \u001b[38;5;129;01mand\u001b[39;00m amt \u001b[38;5;241m>\u001b[39m \u001b[38;5;28mself\u001b[39m\u001b[38;5;241m.\u001b[39mlength:\n\u001b[1;32m    464\u001b[0m     \u001b[38;5;66;03m# clip the read to the \"end of response\"\u001b[39;00m\n\u001b[1;32m    465\u001b[0m     amt \u001b[38;5;241m=\u001b[39m \u001b[38;5;28mself\u001b[39m\u001b[38;5;241m.\u001b[39mlength\n\u001b[0;32m--> 466\u001b[0m s \u001b[38;5;241m=\u001b[39m \u001b[38;5;28;43mself\u001b[39;49m\u001b[38;5;241;43m.\u001b[39;49m\u001b[43mfp\u001b[49m\u001b[38;5;241;43m.\u001b[39;49m\u001b[43mread\u001b[49m\u001b[43m(\u001b[49m\u001b[43mamt\u001b[49m\u001b[43m)\u001b[49m\n\u001b[1;32m    467\u001b[0m \u001b[38;5;28;01mif\u001b[39;00m \u001b[38;5;129;01mnot\u001b[39;00m s \u001b[38;5;129;01mand\u001b[39;00m amt:\n\u001b[1;32m    468\u001b[0m     \u001b[38;5;66;03m# Ideally, we would raise IncompleteRead if the content-length\u001b[39;00m\n\u001b[1;32m    469\u001b[0m     \u001b[38;5;66;03m# wasn't satisfied, but it might break compatibility.\u001b[39;00m\n\u001b[1;32m    470\u001b[0m     \u001b[38;5;28mself\u001b[39m\u001b[38;5;241m.\u001b[39m_close_conn()\n",
      "File \u001b[0;32m/mnt/code/.pyenv/versions/3.10.12/lib/python3.10/socket.py:705\u001b[0m, in \u001b[0;36mSocketIO.readinto\u001b[0;34m(self, b)\u001b[0m\n\u001b[1;32m    703\u001b[0m \u001b[38;5;28;01mwhile\u001b[39;00m \u001b[38;5;28;01mTrue\u001b[39;00m:\n\u001b[1;32m    704\u001b[0m     \u001b[38;5;28;01mtry\u001b[39;00m:\n\u001b[0;32m--> 705\u001b[0m         \u001b[38;5;28;01mreturn\u001b[39;00m \u001b[38;5;28;43mself\u001b[39;49m\u001b[38;5;241;43m.\u001b[39;49m\u001b[43m_sock\u001b[49m\u001b[38;5;241;43m.\u001b[39;49m\u001b[43mrecv_into\u001b[49m\u001b[43m(\u001b[49m\u001b[43mb\u001b[49m\u001b[43m)\u001b[49m\n\u001b[1;32m    706\u001b[0m     \u001b[38;5;28;01mexcept\u001b[39;00m timeout:\n\u001b[1;32m    707\u001b[0m         \u001b[38;5;28mself\u001b[39m\u001b[38;5;241m.\u001b[39m_timeout_occurred \u001b[38;5;241m=\u001b[39m \u001b[38;5;28;01mTrue\u001b[39;00m\n",
      "File \u001b[0;32m/mnt/code/.pyenv/versions/3.10.12/lib/python3.10/ssl.py:1274\u001b[0m, in \u001b[0;36mSSLSocket.recv_into\u001b[0;34m(self, buffer, nbytes, flags)\u001b[0m\n\u001b[1;32m   1270\u001b[0m     \u001b[38;5;28;01mif\u001b[39;00m flags \u001b[38;5;241m!=\u001b[39m \u001b[38;5;241m0\u001b[39m:\n\u001b[1;32m   1271\u001b[0m         \u001b[38;5;28;01mraise\u001b[39;00m \u001b[38;5;167;01mValueError\u001b[39;00m(\n\u001b[1;32m   1272\u001b[0m           \u001b[38;5;124m\"\u001b[39m\u001b[38;5;124mnon-zero flags not allowed in calls to recv_into() on \u001b[39m\u001b[38;5;132;01m%s\u001b[39;00m\u001b[38;5;124m\"\u001b[39m \u001b[38;5;241m%\u001b[39m\n\u001b[1;32m   1273\u001b[0m           \u001b[38;5;28mself\u001b[39m\u001b[38;5;241m.\u001b[39m\u001b[38;5;18m__class__\u001b[39m)\n\u001b[0;32m-> 1274\u001b[0m     \u001b[38;5;28;01mreturn\u001b[39;00m \u001b[38;5;28;43mself\u001b[39;49m\u001b[38;5;241;43m.\u001b[39;49m\u001b[43mread\u001b[49m\u001b[43m(\u001b[49m\u001b[43mnbytes\u001b[49m\u001b[43m,\u001b[49m\u001b[43m \u001b[49m\u001b[43mbuffer\u001b[49m\u001b[43m)\u001b[49m\n\u001b[1;32m   1275\u001b[0m \u001b[38;5;28;01melse\u001b[39;00m:\n\u001b[1;32m   1276\u001b[0m     \u001b[38;5;28;01mreturn\u001b[39;00m \u001b[38;5;28msuper\u001b[39m()\u001b[38;5;241m.\u001b[39mrecv_into(buffer, nbytes, flags)\n",
      "File \u001b[0;32m/mnt/code/.pyenv/versions/3.10.12/lib/python3.10/ssl.py:1130\u001b[0m, in \u001b[0;36mSSLSocket.read\u001b[0;34m(self, len, buffer)\u001b[0m\n\u001b[1;32m   1128\u001b[0m \u001b[38;5;28;01mtry\u001b[39;00m:\n\u001b[1;32m   1129\u001b[0m     \u001b[38;5;28;01mif\u001b[39;00m buffer \u001b[38;5;129;01mis\u001b[39;00m \u001b[38;5;129;01mnot\u001b[39;00m \u001b[38;5;28;01mNone\u001b[39;00m:\n\u001b[0;32m-> 1130\u001b[0m         \u001b[38;5;28;01mreturn\u001b[39;00m \u001b[38;5;28;43mself\u001b[39;49m\u001b[38;5;241;43m.\u001b[39;49m\u001b[43m_sslobj\u001b[49m\u001b[38;5;241;43m.\u001b[39;49m\u001b[43mread\u001b[49m\u001b[43m(\u001b[49m\u001b[38;5;28;43mlen\u001b[39;49m\u001b[43m,\u001b[49m\u001b[43m \u001b[49m\u001b[43mbuffer\u001b[49m\u001b[43m)\u001b[49m\n\u001b[1;32m   1131\u001b[0m     \u001b[38;5;28;01melse\u001b[39;00m:\n\u001b[1;32m   1132\u001b[0m         \u001b[38;5;28;01mreturn\u001b[39;00m \u001b[38;5;28mself\u001b[39m\u001b[38;5;241m.\u001b[39m_sslobj\u001b[38;5;241m.\u001b[39mread(\u001b[38;5;28mlen\u001b[39m)\n",
      "\u001b[0;31mKeyboardInterrupt\u001b[0m: "
     ]
    }
   ],
   "source": [
    "files = a.ls(bucket_folder='')"
   ]
  },
  {
   "cell_type": "code",
   "execution_count": 18,
   "id": "ce2fa393-3da4-49a3-93d3-27f9348e4cb4",
   "metadata": {},
   "outputs": [
    {
     "data": {
      "text/plain": [
       "['T1d', 'T1m']"
      ]
     },
     "execution_count": 18,
     "metadata": {},
     "output_type": "execute_result"
    }
   ],
   "source": [
    "files"
   ]
  },
  {
   "cell_type": "code",
   "execution_count": 19,
   "id": "15e753de-c78c-4207-9981-c75d471fcf90",
   "metadata": {},
   "outputs": [
    {
     "name": "stdout",
     "output_type": "stream",
     "text": [
      "\n",
      "['T1d', 'T1d', 'T1d', 'T1d', 'T1d', 'T1d', 'T1d', 'T1d', 'T1d', 'T1d', 'T1d', 'T1d', 'T1d', 'T1d', 'T1d', 'T1d', 'T1d', 'T1d', 'T1d', 'T1d', 'T1d', 'T1d', 'T1d', 'T1d', 'T1d', 'T1d', 'T1d', 'T1d', 'T1d', 'T1d', 'T1d', 'T1d', 'T1d', 'T1d', 'T1d', 'T1d', 'T1d', 'T1d', 'T1d', 'T1d', 'T1d', 'T1d', 'T1d', 'T1d', 'T1d', 'T1d', 'T1d', 'T1d', 'T1d', 'T1d', 'T1d', 'T1d', 'T1d', 'T1d', 'T1d', 'T1d', 'T1d', 'T1d', 'T1d', 'T1d', 'T1d', 'T1d', 'T1d', 'T1d', 'T1d', 'T1d', 'T1d', 'T1d', 'T1d', 'T1d', 'T1d', 'T1d', 'T1d', 'T1d', 'T1d', 'T1d', 'T1d', 'T1d', 'T1d', 'T1d', 'T1d', 'T1d', 'T1d', 'T1d', 'T1d', 'T1d', 'T1d', 'T1d', 'T1d', 'T1d', 'T1d', 'T1d', 'T1d', 'T1d', 'T1d', 'T1d', 'T1d', 'T1d', 'T1d', 'T1d', 'T1d', 'T1d', 'T1d', 'T1d', 'T1d', 'T1d', 'T1d', 'T1d', 'T1d', 'T1d', 'T1d', 'T1d', 'T1d', 'T1d', 'T1d', 'T1d', 'T1d', 'T1d', 'T1d', 'T1d', 'T1d', 'T1d', 'T1d', 'T1d', 'T1d', 'T1d', 'T1d', 'T1d', 'T1d', 'T1d', 'T1d', 'T1d', 'T1d', 'T1d', 'T1d', 'T1d', 'T1d', 'T1d', 'T1d', 'T1d', 'T1d', 'T1d', 'T1d', 'T1d', 'T1d', 'T1d', 'T1d', 'T1d', 'T1d', 'T1d', 'T1d', 'T1d', 'T1d', 'T1d', 'T1d', 'T1d', 'T1d', 'T1d', 'T1d', 'T1d', 'T1d', 'T1d', 'T1d', 'T1d', 'T1d', 'T1d', 'T1d', 'T1d', 'T1d', 'T1d', 'T1d', 'T1d', 'T1d', 'T1d', 'T1d', 'T1d', 'T1d', 'T1d', 'T1d', 'T1d', 'T1d', 'T1d', 'T1d', 'T1d', 'T1d', 'T1d', 'T1d', 'T1d', 'T1d', 'T1d', 'T1d', 'T1d', 'T1d', 'T1d', 'T1d', 'T1d', 'T1d', 'T1d', 'T1d', 'T1d', 'T1d', 'T1d', 'T1d', 'T1d', 'T1d', 'T1d', 'T1d', 'T1d', 'T1d', 'T1d', 'T1d', 'T1d', 'T1d', 'T1d', 'T1d', 'T1d', 'T1d', 'T1d', 'T1d', 'T1d', 'T1d', 'T1d', 'T1d', 'T1d', 'T1d', 'T1d', 'T1d', 'T1d', 'T1d', 'T1d', 'T1d', 'T1d', 'T1d', 'T1d', 'T1d', 'T1d', 'T1d', 'T1d', 'T1d', 'T1d', 'T1d', 'T1d', 'T1d', 'T1d', 'T1d', 'T1d', 'T1d', 'T1d', 'T1d', 'T1d', 'T1d', 'T1d', 'T1d', 'T1d', 'T1d', 'T1d', 'T1d', 'T1d', 'T1d', 'T1d', 'T1d', 'T1d', 'T1d', 'T1d', 'T1d', 'T1d', 'T1d', 'T1d', 'T1d', 'T1d', 'T1d', 'T1d', 'T1d', 'T1d', 'T1d', 'T1d', 'T1d', 'T1d', 'T1d', 'T1d', 'T1d', 'T1d', 'T1d', 'T1d', 'T1d', 'T1d', 'T1d', 'T1d', 'T1d', 'T1d', 'T1d', 'T1d', 'T1d', 'T1d', 'T1d', 'T1d', 'T1d', 'T1d', 'T1d', 'T1d', 'T1d', 'T1d', 'T1d', 'T1d', 'T1d', 'T1d', 'T1d', 'T1d', 'T1d', 'T1d', 'T1d', 'T1d', 'T1d', 'T1d', 'T1d', 'T1d', 'T1d', 'T1d', 'T1d', 'T1d', 'T1d', 'T1d', 'T1d', 'T1d', 'T1d', 'T1d', 'T1d', 'T1d', 'T1d', 'T1d', 'T1d', 'T1d', 'T1d', 'T1d', 'T1d', 'T1d', 'T1d', 'T1d', 'T1d', 'T1d', 'T1d', 'T1d', 'T1d', 'T1d', 'T1d', 'T1d', 'T1d', 'T1d', 'T1d', 'T1d', 'T1d', 'T1d', 'T1d', 'T1d', 'T1d', 'T1d', 'T1d', 'T1d', 'T1d', 'T1d', 'T1d', 'T1d', 'T1d', 'T1d', 'T1d', 'T1d', 'T1d', 'T1d', 'T1d', 'T1d', 'T1d', 'T1d', 'T1d', 'T1d', 'T1d', 'T1d', 'T1d', 'T1d', 'T1d', 'T1d', 'T1d', 'T1d', 'T1d', 'T1d', 'T1d', 'T1d', 'T1d', 'T1d', 'T1d', 'T1d', 'T1d', 'T1d', 'T1d', 'T1d', 'T1d', 'T1d', 'T1d', 'T1d', 'T1d', 'T1d', 'T1d', 'T1d', 'T1d', 'T1d', 'T1d', 'T1d', 'T1d', 'T1d', 'T1d', 'T1d', 'T1d', 'T1d', 'T1d', 'T1d', 'T1d', 'T1d', 'T1d', 'T1d', 'T1d', 'T1d', 'T1d', 'T1d', 'T1d', 'T1d', 'T1d', 'T1d', 'T1d', 'T1d', 'T1d', 'T1d', 'T1d', 'T1d', 'T1d', 'T1d', 'T1d', 'T1d', 'T1d', 'T1d', 'T1d', 'T1d', 'T1d', 'T1d', 'T1d', 'T1d', 'T1d', 'T1d', 'T1d', 'T1d', 'T1d', 'T1d', 'T1d', 'T1d', 'T1d', 'T1d', 'T1d', 'T1d', 'T1d', 'T1d', 'T1d', 'T1d', 'T1d', 'T1d', 'T1d', 'T1d', 'T1d', 'T1d', 'T1d', 'T1d', 'T1d', 'T1d', 'T1d', 'T1d', 'T1d', 'T1d', 'T1d', 'T1d', 'T1d', 'T1d', 'T1d', 'T1d', 'T1d', 'T1d', 'T1d', 'T1d', 'T1d', 'T1d', 'T1d', 'T1d', 'T1d', 'T1d', 'T1d', 'T1d', 'T1d', 'T1d', 'T1d', 'T1d', 'T1d', 'T1d', 'T1d', 'T1d', 'T1d', 'T1d', 'T1d', 'T1d', 'T1d', 'T1d', 'T1d', 'T1d', 'T1d', 'T1d', 'T1d', 'T1d', 'T1d', 'T1d', 'T1d', 'T1d', 'T1d', 'T1d', 'T1d', 'T1d', 'T1d', 'T1d', 'T1d', 'T1d', 'T1d', 'T1d', 'T1d', 'T1d', 'T1d', 'T1d', 'T1d', 'T1d', 'T1d', 'T1d', 'T1d', 'T1d', 'T1d', 'T1d', 'T1d', 'T1d', 'T1d', 'T1d', 'T1d', 'T1d', 'T1d', 'T1d', 'T1d', 'T1d', 'T1d', 'T1d', 'T1d', 'T1d', 'T1d', 'T1d', 'T1d', 'T1d', 'T1d', 'T1d', 'T1d', 'T1d', 'T1d', 'T1d', 'T1d', 'T1d', 'T1d', 'T1d', 'T1d', 'T1d', 'T1d', 'T1d', 'T1d', 'T1d', 'T1d', 'T1d', 'T1d', 'T1d', 'T1d', 'T1d', 'T1d', 'T1d', 'T1d', 'T1d', 'T1d', 'T1d', 'T1d', 'T1d', 'T1d', 'T1d', 'T1d', 'T1d', 'T1d', 'T1d', 'T1d', 'T1d', 'T1d', 'T1d', 'T1d', 'T1d', 'T1d', 'T1d', 'T1d', 'T1d', 'T1d', 'T1d', 'T1d', 'T1d', 'T1d', 'T1d', 'T1d', 'T1d', 'T1d', 'T1d', 'T1d', 'T1d', 'T1d', 'T1d', 'T1d', 'T1d', 'T1d', 'T1d', 'T1d', 'T1d', 'T1d', 'T1d', 'T1d', 'T1d', 'T1d', 'T1d', 'T1d', 'T1d', 'T1d', 'T1d', 'T1d', 'T1d', 'T1d', 'T1d', 'T1d', 'T1d', 'T1d', 'T1d', 'T1d', 'T1d', 'T1d', 'T1d', 'T1d', 'T1d', 'T1d', 'T1d', 'T1d', 'T1d', 'T1d', 'T1d', 'T1d', 'T1d', 'T1d', 'T1d', 'T1d', 'T1d', 'T1d', 'T1d', 'T1d', 'T1d', 'T1d', 'T1d', 'T1d', 'T1d', 'T1d', 'T1d', 'T1d', 'T1d', 'T1d', 'T1d', 'T1d', 'T1d', 'T1d', 'T1d', 'T1d', 'T1d', 'T1d', 'T1d', 'T1d', 'T1d', 'T1d', 'T1d', 'T1d', 'T1d', 'T1d', 'T1d', 'T1d', 'T1d', 'T1d', 'T1d', 'T1d', 'T1d', 'T1d', 'T1d', 'T1d', 'T1d', 'T1d', 'T1d', 'T1d', 'T1d', 'T1d', 'T1d', 'T1d', 'T1d', 'T1d', 'T1d', 'T1d', 'T1d', 'T1d', 'T1d', 'T1d', 'T1d', 'T1d', 'T1d', 'T1d', 'T1d', 'T1d', 'T1d', 'T1d', 'T1d', 'T1d', 'T1d', 'T1d', 'T1d', 'T1d', 'T1d', 'T1d', 'T1d', 'T1d', 'T1d', 'T1d', 'T1d', 'T1d', 'T1d', 'T1d', 'T1d', 'T1d', 'T1d', 'T1d', 'T1d', 'T1d', 'T1d', 'T1d', 'T1d', 'T1d', 'T1d', 'T1d', 'T1d', 'T1d', 'T1d', 'T1d', 'T1d', 'T1d', 'T1d', 'T1d', 'T1d', 'T1d', 'T1d', 'T1d', 'T1d', 'T1d', 'T1d', 'T1d', 'T1d', 'T1d', 'T1d', 'T1d', 'T1d', 'T1d', 'T1d', 'T1d', 'T1d', 'T1d', 'T1d', 'T1d', 'T1d', 'T1d', 'T1d', 'T1d', 'T1d', 'T1d', 'T1d', 'T1d', 'T1d', 'T1d', 'T1d', 'T1d', 'T1d', 'T1d', 'T1d', 'T1d', 'T1d', 'T1d', 'T1d', 'T1d', 'T1d', 'T1d', 'T1d', 'T1d', 'T1d', 'T1d', 'T1d', 'T1d', 'T1d', 'T1d', 'T1d', 'T1d', 'T1d', 'T1d', 'T1d', 'T1d', 'T1d', 'T1d', 'T1d', 'T1d', 'T1d', 'T1d', 'T1d', 'T1d', 'T1d', 'T1d', 'T1d', 'T1d', 'T1d', 'T1d', 'T1d', 'T1d', 'T1d', 'T1d', 'T1d', 'T1d', 'T1d', 'T1d', 'T1d', 'T1d', 'T1d', 'T1d', 'T1d', 'T1d', 'T1d', 'T1d', 'T1d', 'T1d', 'T1d', 'T1d', 'T1d', 'T1d', 'T1d', 'T1d', 'T1d', 'T1d', 'T1d', 'T1d', 'T1d', 'T1d', 'T1d', 'T1d', 'T1d', 'T1d', 'T1d', 'T1d', 'T1d', 'T1d', 'T1d', 'T1d', 'T1d', 'T1d', 'T1d', 'T1d', 'T1d', 'T1d', 'T1d', 'T1d', 'T1d', 'T1d', 'T1d', 'T1d', 'T1d', 'T1d', 'T1d', 'T1d', 'T1d', 'T1d', 'T1d', 'T1d', 'T1d', 'T1d', 'T1d', 'T1d', 'T1d', 'T1d', 'T1d', 'T1d', 'T1d', 'T1d', 'T1d', 'T1d', 'T1d', 'T1d', 'T1d', 'T1d', 'T1d', 'T1d', 'T1d', 'T1d', 'T1d', 'T1m', 'T1m', 'T1m', 'T1m', 'T1m', 'T1m', 'T1m', 'T1m', 'T1m', 'T1m', 'T1m', 'T1m', 'T1m', 'T1m', 'T1m', 'T1m', 'T1m', 'T1m', 'T1m', 'T1m', 'T1m', 'T1m', 'T1m', 'T1m', 'T1m', 'T1m', 'T1m', 'T1m', 'T1m', 'T1m', 'T1m', 'T1m', 'T1m', 'T1m', 'T1m', 'T1m', 'T1m', 'T1m', 'T1m', 'T1m', 'T1m', 'T1m', 'T1m', 'T1m', 'T1m', 'T1m', 'T1m', 'T1m', 'T1m', 'T1m', 'T1m', 'T1m', 'T1m', 'T1m', 'T1m', 'T1m', 'T1m', 'T1m', 'T1m', 'T1m', 'T1m', 'T1m', 'T1m', 'T1m', 'T1m', 'T1m', 'T1m', 'T1m', 'T1m', 'T1m', 'T1m', 'T1m', 'T1m', 'T1m', 'T1m', 'T1m', 'T1m', 'T1m', 'T1m', 'T1m', 'T1m', 'T1m', 'T1m', 'T1m', 'T1m', 'T1m', 'T1m', 'T1m', 'T1m', 'T1m', 'T1m', 'T1m']\n"
     ]
    }
   ],
   "source": [
    "file_objects = a.ls(bucket_folder='')"
   ]
  },
  {
   "cell_type": "code",
   "execution_count": null,
   "id": "5b7df723-554e-4936-9a19-27bce6ffe241",
   "metadata": {},
   "outputs": [],
   "source": []
  },
  {
   "cell_type": "code",
   "execution_count": 12,
   "id": "6010ae78-8e2e-490f-89c7-68396c7ce641",
   "metadata": {},
   "outputs": [
    {
     "ename": "TypeError",
     "evalue": "AioSession._create_client() got an unexpected keyword argument 'context'",
     "output_type": "error",
     "traceback": [
      "\u001b[0;31m---------------------------------------------------------------------------\u001b[0m",
      "\u001b[0;31mTypeError\u001b[0m                                 Traceback (most recent call last)",
      "Cell \u001b[0;32mIn[12], line 2\u001b[0m\n\u001b[1;32m      1\u001b[0m bucket_name \u001b[38;5;241m=\u001b[39m \u001b[38;5;124m'\u001b[39m\u001b[38;5;124mtobfer\u001b[39m\u001b[38;5;124m'\u001b[39m\n\u001b[0;32m----> 2\u001b[0m list_of_variables \u001b[38;5;241m=\u001b[39m [item\u001b[38;5;241m.\u001b[39msplit(\u001b[38;5;124m'\u001b[39m\u001b[38;5;124m/\u001b[39m\u001b[38;5;124m'\u001b[39m)[\u001b[38;5;241m-\u001b[39m\u001b[38;5;241m1\u001b[39m] \u001b[38;5;28;01mfor\u001b[39;00m item \u001b[38;5;129;01min\u001b[39;00m \u001b[43mfs\u001b[49m\u001b[38;5;241;43m.\u001b[39;49m\u001b[43mls\u001b[49m\u001b[43m(\u001b[49m\u001b[43mbucket_name\u001b[49m\u001b[43m)\u001b[49m]\n",
      "File \u001b[0;32m/mnt/code/.pyenv/versions/3.10.12/envs/zarr-visualization/lib/python3.10/site-packages/fsspec/asyn.py:118\u001b[0m, in \u001b[0;36msync_wrapper.<locals>.wrapper\u001b[0;34m(*args, **kwargs)\u001b[0m\n\u001b[1;32m    115\u001b[0m \u001b[38;5;129m@functools\u001b[39m\u001b[38;5;241m.\u001b[39mwraps(func)\n\u001b[1;32m    116\u001b[0m \u001b[38;5;28;01mdef\u001b[39;00m \u001b[38;5;21mwrapper\u001b[39m(\u001b[38;5;241m*\u001b[39margs, \u001b[38;5;241m*\u001b[39m\u001b[38;5;241m*\u001b[39mkwargs):\n\u001b[1;32m    117\u001b[0m     \u001b[38;5;28mself\u001b[39m \u001b[38;5;241m=\u001b[39m obj \u001b[38;5;129;01mor\u001b[39;00m args[\u001b[38;5;241m0\u001b[39m]\n\u001b[0;32m--> 118\u001b[0m     \u001b[38;5;28;01mreturn\u001b[39;00m \u001b[43msync\u001b[49m\u001b[43m(\u001b[49m\u001b[38;5;28;43mself\u001b[39;49m\u001b[38;5;241;43m.\u001b[39;49m\u001b[43mloop\u001b[49m\u001b[43m,\u001b[49m\u001b[43m \u001b[49m\u001b[43mfunc\u001b[49m\u001b[43m,\u001b[49m\u001b[43m \u001b[49m\u001b[38;5;241;43m*\u001b[39;49m\u001b[43margs\u001b[49m\u001b[43m,\u001b[49m\u001b[43m \u001b[49m\u001b[38;5;241;43m*\u001b[39;49m\u001b[38;5;241;43m*\u001b[39;49m\u001b[43mkwargs\u001b[49m\u001b[43m)\u001b[49m\n",
      "File \u001b[0;32m/mnt/code/.pyenv/versions/3.10.12/envs/zarr-visualization/lib/python3.10/site-packages/fsspec/asyn.py:103\u001b[0m, in \u001b[0;36msync\u001b[0;34m(loop, func, timeout, *args, **kwargs)\u001b[0m\n\u001b[1;32m    101\u001b[0m     \u001b[38;5;28;01mraise\u001b[39;00m FSTimeoutError \u001b[38;5;28;01mfrom\u001b[39;00m \u001b[38;5;21;01mreturn_result\u001b[39;00m\n\u001b[1;32m    102\u001b[0m \u001b[38;5;28;01melif\u001b[39;00m \u001b[38;5;28misinstance\u001b[39m(return_result, \u001b[38;5;167;01mBaseException\u001b[39;00m):\n\u001b[0;32m--> 103\u001b[0m     \u001b[38;5;28;01mraise\u001b[39;00m return_result\n\u001b[1;32m    104\u001b[0m \u001b[38;5;28;01melse\u001b[39;00m:\n\u001b[1;32m    105\u001b[0m     \u001b[38;5;28;01mreturn\u001b[39;00m return_result\n",
      "File \u001b[0;32m/mnt/code/.pyenv/versions/3.10.12/envs/zarr-visualization/lib/python3.10/site-packages/fsspec/asyn.py:56\u001b[0m, in \u001b[0;36m_runner\u001b[0;34m(event, coro, result, timeout)\u001b[0m\n\u001b[1;32m     54\u001b[0m     coro \u001b[38;5;241m=\u001b[39m asyncio\u001b[38;5;241m.\u001b[39mwait_for(coro, timeout\u001b[38;5;241m=\u001b[39mtimeout)\n\u001b[1;32m     55\u001b[0m \u001b[38;5;28;01mtry\u001b[39;00m:\n\u001b[0;32m---> 56\u001b[0m     result[\u001b[38;5;241m0\u001b[39m] \u001b[38;5;241m=\u001b[39m \u001b[38;5;28;01mawait\u001b[39;00m coro\n\u001b[1;32m     57\u001b[0m \u001b[38;5;28;01mexcept\u001b[39;00m \u001b[38;5;167;01mException\u001b[39;00m \u001b[38;5;28;01mas\u001b[39;00m ex:\n\u001b[1;32m     58\u001b[0m     result[\u001b[38;5;241m0\u001b[39m] \u001b[38;5;241m=\u001b[39m ex\n",
      "File \u001b[0;32m/mnt/code/.pyenv/versions/3.10.12/envs/zarr-visualization/lib/python3.10/site-packages/s3fs/core.py:1005\u001b[0m, in \u001b[0;36mS3FileSystem._ls\u001b[0;34m(self, path, detail, refresh, versions)\u001b[0m\n\u001b[1;32m   1003\u001b[0m     files \u001b[38;5;241m=\u001b[39m \u001b[38;5;28;01mawait\u001b[39;00m \u001b[38;5;28mself\u001b[39m\u001b[38;5;241m.\u001b[39m_lsbuckets(refresh)\n\u001b[1;32m   1004\u001b[0m \u001b[38;5;28;01melse\u001b[39;00m:\n\u001b[0;32m-> 1005\u001b[0m     files \u001b[38;5;241m=\u001b[39m \u001b[38;5;28;01mawait\u001b[39;00m \u001b[38;5;28mself\u001b[39m\u001b[38;5;241m.\u001b[39m_lsdir(path, refresh, versions\u001b[38;5;241m=\u001b[39mversions)\n\u001b[1;32m   1006\u001b[0m     \u001b[38;5;28;01mif\u001b[39;00m \u001b[38;5;129;01mnot\u001b[39;00m files \u001b[38;5;129;01mand\u001b[39;00m \u001b[38;5;124m\"\u001b[39m\u001b[38;5;124m/\u001b[39m\u001b[38;5;124m\"\u001b[39m \u001b[38;5;129;01min\u001b[39;00m path:\n\u001b[1;32m   1007\u001b[0m         \u001b[38;5;28;01mtry\u001b[39;00m:\n",
      "File \u001b[0;32m/mnt/code/.pyenv/versions/3.10.12/envs/zarr-visualization/lib/python3.10/site-packages/s3fs/core.py:720\u001b[0m, in \u001b[0;36mS3FileSystem._lsdir\u001b[0;34m(self, path, refresh, max_items, delimiter, prefix, versions)\u001b[0m\n\u001b[1;32m    718\u001b[0m dirs \u001b[38;5;241m=\u001b[39m []\n\u001b[1;32m    719\u001b[0m files \u001b[38;5;241m=\u001b[39m []\n\u001b[0;32m--> 720\u001b[0m \u001b[38;5;28;01masync\u001b[39;00m \u001b[38;5;28;01mfor\u001b[39;00m c \u001b[38;5;129;01min\u001b[39;00m \u001b[38;5;28mself\u001b[39m\u001b[38;5;241m.\u001b[39m_iterdir(\n\u001b[1;32m    721\u001b[0m     bucket,\n\u001b[1;32m    722\u001b[0m     max_items\u001b[38;5;241m=\u001b[39mmax_items,\n\u001b[1;32m    723\u001b[0m     delimiter\u001b[38;5;241m=\u001b[39mdelimiter,\n\u001b[1;32m    724\u001b[0m     prefix\u001b[38;5;241m=\u001b[39mprefix,\n\u001b[1;32m    725\u001b[0m     versions\u001b[38;5;241m=\u001b[39mversions,\n\u001b[1;32m    726\u001b[0m ):\n\u001b[1;32m    727\u001b[0m     \u001b[38;5;28;01mif\u001b[39;00m c[\u001b[38;5;124m\"\u001b[39m\u001b[38;5;124mtype\u001b[39m\u001b[38;5;124m\"\u001b[39m] \u001b[38;5;241m==\u001b[39m \u001b[38;5;124m\"\u001b[39m\u001b[38;5;124mdirectory\u001b[39m\u001b[38;5;124m\"\u001b[39m:\n\u001b[1;32m    728\u001b[0m         dirs\u001b[38;5;241m.\u001b[39mappend(c)\n",
      "File \u001b[0;32m/mnt/code/.pyenv/versions/3.10.12/envs/zarr-visualization/lib/python3.10/site-packages/s3fs/core.py:751\u001b[0m, in \u001b[0;36mS3FileSystem._iterdir\u001b[0;34m(self, bucket, max_items, delimiter, prefix, versions)\u001b[0m\n\u001b[1;32m    747\u001b[0m \u001b[38;5;28;01mif\u001b[39;00m versions \u001b[38;5;129;01mand\u001b[39;00m \u001b[38;5;129;01mnot\u001b[39;00m \u001b[38;5;28mself\u001b[39m\u001b[38;5;241m.\u001b[39mversion_aware:\n\u001b[1;32m    748\u001b[0m     \u001b[38;5;28;01mraise\u001b[39;00m \u001b[38;5;167;01mValueError\u001b[39;00m(\n\u001b[1;32m    749\u001b[0m         \u001b[38;5;124m\"\u001b[39m\u001b[38;5;124mversions cannot be specified if the filesystem is not version aware\u001b[39m\u001b[38;5;124m\"\u001b[39m\n\u001b[1;32m    750\u001b[0m     )\n\u001b[0;32m--> 751\u001b[0m \u001b[38;5;28;01mawait\u001b[39;00m \u001b[38;5;28mself\u001b[39m\u001b[38;5;241m.\u001b[39mset_session()\n\u001b[1;32m    752\u001b[0m s3 \u001b[38;5;241m=\u001b[39m \u001b[38;5;28;01mawait\u001b[39;00m \u001b[38;5;28mself\u001b[39m\u001b[38;5;241m.\u001b[39mget_s3(bucket)\n\u001b[1;32m    753\u001b[0m \u001b[38;5;28;01mif\u001b[39;00m \u001b[38;5;28mself\u001b[39m\u001b[38;5;241m.\u001b[39mversion_aware:\n",
      "File \u001b[0;32m/mnt/code/.pyenv/versions/3.10.12/envs/zarr-visualization/lib/python3.10/site-packages/s3fs/core.py:538\u001b[0m, in \u001b[0;36mS3FileSystem.set_session\u001b[0;34m(self, refresh, kwargs)\u001b[0m\n\u001b[1;32m    536\u001b[0m     \u001b[38;5;28mself\u001b[39m\u001b[38;5;241m.\u001b[39m_s3 \u001b[38;5;241m=\u001b[39m \u001b[38;5;28;01mawait\u001b[39;00m s3creator\u001b[38;5;241m.\u001b[39mget_client()\n\u001b[1;32m    537\u001b[0m \u001b[38;5;28;01melse\u001b[39;00m:\n\u001b[0;32m--> 538\u001b[0m     s3creator \u001b[38;5;241m=\u001b[39m \u001b[38;5;28;43mself\u001b[39;49m\u001b[38;5;241;43m.\u001b[39;49m\u001b[43msession\u001b[49m\u001b[38;5;241;43m.\u001b[39;49m\u001b[43mcreate_client\u001b[49m\u001b[43m(\u001b[49m\n\u001b[1;32m    539\u001b[0m \u001b[43m        \u001b[49m\u001b[38;5;124;43m\"\u001b[39;49m\u001b[38;5;124;43ms3\u001b[39;49m\u001b[38;5;124;43m\"\u001b[39;49m\u001b[43m,\u001b[49m\u001b[43m \u001b[49m\u001b[43mconfig\u001b[49m\u001b[38;5;241;43m=\u001b[39;49m\u001b[43mconf\u001b[49m\u001b[43m,\u001b[49m\u001b[43m \u001b[49m\u001b[38;5;241;43m*\u001b[39;49m\u001b[38;5;241;43m*\u001b[39;49m\u001b[43minit_kwargs\u001b[49m\u001b[43m,\u001b[49m\u001b[43m \u001b[49m\u001b[38;5;241;43m*\u001b[39;49m\u001b[38;5;241;43m*\u001b[39;49m\u001b[43mclient_kwargs\u001b[49m\n\u001b[1;32m    540\u001b[0m \u001b[43m    \u001b[49m\u001b[43m)\u001b[49m\n\u001b[1;32m    541\u001b[0m     \u001b[38;5;28mself\u001b[39m\u001b[38;5;241m.\u001b[39m_s3 \u001b[38;5;241m=\u001b[39m \u001b[38;5;28;01mawait\u001b[39;00m s3creator\u001b[38;5;241m.\u001b[39m\u001b[38;5;21m__aenter__\u001b[39m()\n\u001b[1;32m    543\u001b[0m \u001b[38;5;28mself\u001b[39m\u001b[38;5;241m.\u001b[39m_s3creator \u001b[38;5;241m=\u001b[39m s3creator\n",
      "File \u001b[0;32m/mnt/code/.pyenv/versions/3.10.12/envs/zarr-visualization/lib/python3.10/site-packages/aiobotocore/session.py:119\u001b[0m, in \u001b[0;36mAioSession.create_client\u001b[0;34m(self, *args, **kwargs)\u001b[0m\n\u001b[1;32m    118\u001b[0m \u001b[38;5;28;01mdef\u001b[39;00m \u001b[38;5;21mcreate_client\u001b[39m(\u001b[38;5;28mself\u001b[39m, \u001b[38;5;241m*\u001b[39margs, \u001b[38;5;241m*\u001b[39m\u001b[38;5;241m*\u001b[39mkwargs):\n\u001b[0;32m--> 119\u001b[0m     \u001b[38;5;28;01mreturn\u001b[39;00m ClientCreatorContext(\u001b[38;5;28;43mself\u001b[39;49m\u001b[38;5;241;43m.\u001b[39;49m\u001b[43m_create_client\u001b[49m\u001b[43m(\u001b[49m\u001b[38;5;241;43m*\u001b[39;49m\u001b[43margs\u001b[49m\u001b[43m,\u001b[49m\u001b[43m \u001b[49m\u001b[38;5;241;43m*\u001b[39;49m\u001b[38;5;241;43m*\u001b[39;49m\u001b[43mkwargs\u001b[49m\u001b[43m)\u001b[49m)\n",
      "\u001b[0;31mTypeError\u001b[0m: AioSession._create_client() got an unexpected keyword argument 'context'"
     ]
    }
   ],
   "source": [
    "list_of_variables = [item.split('/')[-1] for item in fs.ls(bucket_name)]"
   ]
  },
  {
   "cell_type": "code",
   "execution_count": 1,
   "id": "01773b1c-e525-4ae2-85f7-c77262f60000",
   "metadata": {},
   "outputs": [
    {
     "ename": "NameError",
     "evalue": "name 'ZarrVisualization' is not defined",
     "output_type": "error",
     "traceback": [
      "\u001b[0;31m---------------------------------------------------------------------------\u001b[0m",
      "\u001b[0;31mNameError\u001b[0m                                 Traceback (most recent call last)",
      "Cell \u001b[0;32mIn[1], line 1\u001b[0m\n\u001b[0;32m----> 1\u001b[0m zarr_viz \u001b[38;5;241m=\u001b[39m \u001b[43mZarrVisualization\u001b[49m(bucket_name\u001b[38;5;241m=\u001b[39m\u001b[38;5;124m'\u001b[39m\u001b[38;5;124mtobfer\u001b[39m\u001b[38;5;124m'\u001b[39m)\n",
      "\u001b[0;31mNameError\u001b[0m: name 'ZarrVisualization' is not defined"
     ]
    }
   ],
   "source": [
    "zarr_viz = ZarrVisualization(bucket_name='tobfer')\n"
   ]
  },
  {
   "cell_type": "code",
   "execution_count": 3,
   "id": "39505226-2bf9-4b0f-9c3d-71f6612fa19b",
   "metadata": {},
   "outputs": [],
   "source": [
    "variable_select = widgets.Dropdown(\n",
    "    options=zarr_viz.list_of_variables,\n",
    "    value=zarr_viz.list_of_variables[0], \n",
    "    description='Variable:'\n",
    ")"
   ]
  },
  {
   "cell_type": "code",
   "execution_count": 8,
   "id": "8630c1c7-dd1b-4938-868d-e4868cac51f5",
   "metadata": {},
   "outputs": [
    {
     "data": {
      "application/vnd.jupyter.widget-view+json": {
       "model_id": "976103fcec3449718f836c8de0e1ccbc",
       "version_major": 2,
       "version_minor": 0
      },
      "text/plain": [
       "interactive(children=(Dropdown(description='Variable:', options=('T1d', 'T1m', 'T1y', 'T5d', 'U1d', 'U1m', 'U1…"
      ]
     },
     "metadata": {},
     "output_type": "display_data"
    },
    {
     "data": {
      "application/vnd.jupyter.widget-view+json": {
       "model_id": "3c6e2aadd815427cb571cd823710fa67",
       "version_major": 2,
       "version_minor": 0
      },
      "text/plain": [
       "Map(center=[40, 0], controls=(ZoomControl(options=['position', 'zoom_in_text', 'zoom_in_title', 'zoom_out_text…"
      ]
     },
     "execution_count": 8,
     "metadata": {},
     "output_type": "execute_result"
    }
   ],
   "source": [
    "limits = [0,0,0,0,0]\n",
    "open_button = widgets.Button(description=\"Open Zarr\")\n",
    "sel_button = widgets.HBox()\n",
    "show_data = widgets.HBox()\n",
    "\n",
    "lat_min_container = widgets.HBox()\n",
    "lat_max_container = widgets.HBox()\n",
    "lon_min_container = widgets.HBox()\n",
    "lon_max_container = widgets.HBox()\n",
    "data_path = widgets.HBox()\n",
    "data_information = widgets.HBox()\n",
    "time_counter_container = widgets.HBox()\n",
    "\n",
    "loading_spinner = widgets.HTML(value=\"Loading...\") \n",
    "loading_container = widgets.VBox()\n",
    "\n",
    "\n",
    "m = Map(center=[40, 0], zoom=3, basemap=basemaps.CartoDB.DarkMatter, interpolation='nearest')\n",
    "\n",
    "def plot_data_old(ds):\n",
    "    print(ds)\n",
    "    l = ds.leaflet.plot(m, colormap=plt.cm.terrain)\n",
    "    print('l',l)\n",
    "\n",
    "def plot_data(ds):\n",
    "    loading_container.children = [loading_spinner]\n",
    "\n",
    "    temp_file = NamedTemporaryFile(suffix='.tif', delete=False)\n",
    "    ds.rio.to_raster(temp_file.name)\n",
    "    temp_file.close()\n",
    "    client = TileClient(temp_file.name)\n",
    "    t = get_leaflet_tile_layer(source=client, colormap='RdYlBu_r')\n",
    "    m.add(t)\n",
    "    loading_container.children = []\n",
    "\n",
    "\n",
    "def sel_zarr_data(ds, limits):\n",
    "    loading_container.children = [loading_spinner]\n",
    "    ds = ds.sel(y=slice(limits[0], limits[1]))\n",
    "    ds = ds.sel(x=slice(limits[2], limits[3]))\n",
    "    if len(limits) == 5:\n",
    "        ds = ds.sel(time_counter=limits[4])\n",
    "    ds.attrs['scale_factor'] = 1.0\n",
    "    ds.attrs['add_offset'] = 0.0\n",
    "    ds = ds.assign_coords(band=1)\n",
    "    ds = ds.drop_vars(['nav_lat', 'nav_lon'])\n",
    "    data_information.children = [widgets.Output()]\n",
    "    with data_information.children[0]:\n",
    "        print(ds)\n",
    "\n",
    "    loading_container.children = []\n",
    "    show_data.children = [widgets.Button(description=\"Plot Data\")]\n",
    "    show_data.children[0].on_click(lambda b: plot_data(ds))\n",
    "    \n",
    "def open_zarr_file(data_path):\n",
    "    ds = xr.open_zarr(data_path)\n",
    "    nav_lat = ds.nav_lat.values\n",
    "    new_y = np.linspace(nav_lat.min(), nav_lat.max(), num=nav_lat.shape[0])\n",
    "    nav_lon = ds.nav_lon.values\n",
    "    # new_x = np.linspace(nav_lon.min(), nav_lon.max(), num=nav_lon.shape[1])\n",
    "    new_x = nav_lon[1000]\n",
    "    ds = ds.assign_coords(y=new_y, x=new_x)\n",
    "    ds = ds.sortby('x')\n",
    "    ds = ds.sortby('y')\n",
    "    if \"x\" not in ds.dims and \"y\" not in ds.dims:\n",
    "        latitude_var_name = \"lat\"\n",
    "        longitude_var_name = \"lon\"\n",
    "        if \"latitude\" in ds.dims:\n",
    "            latitude_var_name = \"latitude\"\n",
    "        if \"longitude\" in ds.dims:\n",
    "            longitude_var_name = \"longitude\"\n",
    "        ds = ds.rename({latitude_var_name: \"y\", longitude_var_name: \"x\"})\n",
    "    if \"time_counter\" in ds.dims:\n",
    "        ds = ds.transpose(\"time_counter\", \"y\", \"x\")\n",
    "    else:\n",
    "        ds = ds.transpose(\"y\", \"x\")\n",
    "    if (ds.x > 180).any():\n",
    "        ds = ds.assign_coords(x=(da.x + 180) % 360 - 180)\n",
    "        ds = ds.sortby(da.x)\n",
    "    crs = ds.rio.crs or \"epsg:4326\"\n",
    "    ds.rio.write_crs(crs, inplace=True)\n",
    "    return ds\n",
    "\n",
    "def update_limits(change):\n",
    "    limits[0] = lat_min_container.children[0].value\n",
    "    limits[1] = lat_max_container.children[0].value\n",
    "    limits[2] = lon_min_container.children[0].value\n",
    "    limits[3] = lon_max_container.children[0].value\n",
    "    if len(limits) == 5:\n",
    "        limits[4] = time_counter_container.children[0].value\n",
    "\n",
    "def process_zarr_file(subdata_select):\n",
    "    loading_container.children = [loading_spinner]\n",
    "\n",
    "    data_path = f\"{remote_options['endpoint_url']}{bucket_name}/{variable_select.value}/{subdata_select.value}\"\n",
    "    print(data_path)\n",
    "\n",
    "    ds = open_zarr_file(data_path)\n",
    "    ds = ds[subdata_select.value[:-5]]\n",
    "    lat_min_container.children = [\n",
    "        widgets.FloatSlider(\n",
    "            value=40,\n",
    "            min=-89,\n",
    "            max=89,\n",
    "            description='Min Lat:',\n",
    "            continuous_update=False\n",
    "        )\n",
    "    ]\n",
    "\n",
    "    lat_max_container.children = [widgets.FloatSlider(\n",
    "        value=60,\n",
    "        min=-89,\n",
    "        max=89,\n",
    "        description='Max Lat:',\n",
    "        continuous_update=False\n",
    "    )]\n",
    "    lon_min_container.children = [widgets.FloatSlider(\n",
    "        value=-54,\n",
    "        min=-179,\n",
    "        max=179,\n",
    "        description='Min Lon:',\n",
    "        continuous_update=False\n",
    "    )]\n",
    "    \n",
    "    lon_max_container.children = [widgets.FloatSlider(\n",
    "        value=-37,\n",
    "        min=-179,\n",
    "        max=179,\n",
    "        description='Max Lon:',\n",
    "        continuous_update=False\n",
    "    )]\n",
    "\n",
    "    if 'time_counter' in list(ds.coords):\n",
    "        time_values = ds.time_counter.values\n",
    "        time_counter_container.children = [\n",
    "            widgets.Dropdown(\n",
    "                options=time_values,\n",
    "                value= time_values[0], \n",
    "                description='Time Counter:'\n",
    "            )\n",
    "        ]\n",
    "        time_counter_container.children[0].observe(update_limits, names='value')\n",
    "    update_limits('')\n",
    "    lat_min_container.children[0].observe(update_limits, names='value')\n",
    "    lat_max_container.children[0].observe(update_limits, names='value')\n",
    "    lon_min_container.children[0].observe(update_limits, names='value')\n",
    "    lon_max_container.children[0].observe(update_limits, names='value')\n",
    "\n",
    "    loading_container.children = []\n",
    "    sel_button.children = [widgets.Button(description=\"Sel Data\")]\n",
    "    sel_button.children[0].on_click(lambda b: sel_zarr_data(ds, limits))\n",
    "\n",
    "\n",
    "def update_data_path(change):\n",
    "    data_path.children = [widgets.Output()]\n",
    "    with data_path.children[0]:\n",
    "        print(f\"{remote_options['endpoint_url']}{bucket_name}/{variable_select.value}/{change['new']}\")\n",
    "\n",
    "\n",
    "@interact\n",
    "def select_data(\n",
    "    variable_select=variable_select):\n",
    "\n",
    "    list_of_variables_subdata = fs.ls(f\"{bucket_name}/{variable_select}\")\n",
    "    list_of_variables_subdata = [item.split('/')[-1] for item in list_of_variables_subdata]\n",
    "    subdata_select = widgets.Dropdown(\n",
    "        options=list_of_variables_subdata,\n",
    "        value=list_of_variables_subdata[0],  \n",
    "        description='Files:'\n",
    "    )\n",
    "    subdata_select.observe(update_data_path, names='value')\n",
    "    display(subdata_select, data_path)\n",
    "    display(open_button)\n",
    "\n",
    "    display(time_counter_container)  \n",
    "    display(lat_min_container)  \n",
    "    display(lat_max_container)\n",
    "    display(lon_min_container)\n",
    "    display(lon_max_container)\n",
    "    display(sel_button)\n",
    "    display(data_information)\n",
    "    display(show_data)\n",
    "    display(loading_container)\n",
    "    open_button.on_click(lambda b: process_zarr_file(subdata_select))\n",
    "    \n",
    "m"
   ]
  },
  {
   "cell_type": "code",
   "execution_count": 12,
   "id": "285d7c99-fa05-4043-b1c6-51a681e85abd",
   "metadata": {},
   "outputs": [],
   "source": [
    "ds = xr.open_zarr('https://noc-msm-o.s3-ext.jc.rl.ac.uk/tobfer/V1m/vo.zarr')"
   ]
  },
  {
   "cell_type": "code",
   "execution_count": null,
   "id": "ce3c8e91-6b61-454b-bddf-fd23d068b98b",
   "metadata": {},
   "outputs": [],
   "source": []
  }
 ],
 "metadata": {
  "kernelspec": {
   "display_name": "Python 3 (ipykernel)",
   "language": "python",
   "name": "python3"
  },
  "language_info": {
   "codemirror_mode": {
    "name": "ipython",
    "version": 3
   },
   "file_extension": ".py",
   "mimetype": "text/x-python",
   "name": "python",
   "nbconvert_exporter": "python",
   "pygments_lexer": "ipython3",
   "version": "3.10.12"
  }
 },
 "nbformat": 4,
 "nbformat_minor": 5
}
